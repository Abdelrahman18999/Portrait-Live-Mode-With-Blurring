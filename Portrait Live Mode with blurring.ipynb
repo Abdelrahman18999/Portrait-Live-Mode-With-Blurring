{
 "cells": [
  {
   "cell_type": "code",
   "execution_count": 1,
   "id": "f855a43b",
   "metadata": {},
   "outputs": [],
   "source": [
    "import cv2 \n",
    "import numpy as np # This is used for array and mathematical operations\n",
    "import matplotlib.pyplot as plt # This is used for plotting"
   ]
  },
  {
   "cell_type": "code",
   "execution_count": 8,
   "id": "632b37c4",
   "metadata": {},
   "outputs": [],
   "source": [
    "# Fist mask which (Black, White, Black).\n",
    "# This mask will be applied for original frame from the camera.\n",
    "mask1_original = np.zeros((480, 640, 3), np.uint8)\n",
    "mask1_original = cv2.rectangle(mask1_original, (200, 0), (450, 640), (255, 255, 255), -1)"
   ]
  },
  {
   "cell_type": "code",
   "execution_count": 9,
   "id": "39b9db57",
   "metadata": {},
   "outputs": [],
   "source": [
    "# Second mask which (White, Black, White).\n",
    "# This mask will be applied for original frame after apply blur filter on it.\n",
    "mask2_blured = cv2.bitwise_not(mask1_original) # cv2.bitwise_not --> this function will inverse the mask1 So, mask2 will be (White, Black, White)"
   ]
  },
  {
   "cell_type": "code",
   "execution_count": 10,
   "id": "348479c7",
   "metadata": {},
   "outputs": [],
   "source": [
    "cap = cv2.VideoCapture(0)\n",
    "\n",
    "while True:\n",
    "    \n",
    "    ret, frame = cap.read()\n",
    "    \n",
    "    blur = cv2.blur(frame,(111,111))\n",
    "    mask1 = frame & mask1_original\n",
    "    mask2 = blur & mask2_blured\n",
    "    frame = mask1 | mask2\n",
    "    \n",
    "    cv2.imshow(\"Frame\", frame)\n",
    "    \n",
    "    if cv2.waitKey(1) & 0XFF == 27:\n",
    "        break\n",
    "        \n",
    "cap.release()\n",
    "cv2.destroyAllWindows()"
   ]
  },
  {
   "cell_type": "code",
   "execution_count": null,
   "id": "a6930318",
   "metadata": {},
   "outputs": [],
   "source": []
  }
 ],
 "metadata": {
  "kernelspec": {
   "display_name": "Python 3",
   "language": "python",
   "name": "python3"
  },
  "language_info": {
   "codemirror_mode": {
    "name": "ipython",
    "version": 3
   },
   "file_extension": ".py",
   "mimetype": "text/x-python",
   "name": "python",
   "nbconvert_exporter": "python",
   "pygments_lexer": "ipython3",
   "version": "3.8.8"
  }
 },
 "nbformat": 4,
 "nbformat_minor": 5
}
